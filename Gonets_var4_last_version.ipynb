{
 "cells": [
  {
   "cell_type": "markdown",
   "metadata": {},
   "source": [
    "# Проект: вариант 4"
   ]
  },
  {
   "cell_type": "markdown",
   "metadata": {},
   "source": [
    "## Задание №1"
   ]
  },
  {
   "cell_type": "markdown",
   "metadata": {},
   "source": [
    "Подключение необходимых библиотек"
   ]
  },
  {
   "cell_type": "code",
   "execution_count": 1,
   "metadata": {},
   "outputs": [],
   "source": [
    "import pandas as pd\n",
    "import numpy as np\n",
    "import seaborn as sns\n",
    "import matplotlib.pyplot as plt\n",
    "\n",
    "import requests\n",
    "from urllib.parse import urlencode\n",
    "import json\n",
    "\n",
    "from statistics import mean\n",
    "from scipy.stats import norm, mode, chi2_contingency"
   ]
  },
  {
   "cell_type": "markdown",
   "metadata": {},
   "source": [
    "Загрузка данных с Яндекс.Диск"
   ]
  },
  {
   "cell_type": "code",
   "execution_count": 2,
   "metadata": {},
   "outputs": [],
   "source": [
    "base_url = 'https://cloud-api.yandex.net/v1/disk/public/resources/download?'\n",
    "\n",
    "# active_users - информация о пользователях, которые посещали приложение во время эксперимента\n",
    "public_key = 'https://disk.yandex.ru/d/B4QnY5D5EtKa-A'\n",
    "final_url = base_url + urlencode(dict(public_key=public_key))\n",
    "response = requests.get(final_url)\n",
    "h = json.loads(response.text)['href']\n",
    "active_users = pd.read_csv(h, sep=',')\n",
    "\n",
    "# groups - разбивка пользователей на контрольную (А) и тестовую (В) группы\n",
    "public_key = 'https://disk.yandex.ru/d/jP_BAw_oxS3law'\n",
    "final_url = base_url + urlencode(dict(public_key=public_key))\n",
    "response = requests.get(final_url)\n",
    "h = json.loads(response.text)['href']\n",
    "groups = pd.read_csv(h, sep=',')\n",
    "\n",
    "# purchases - данные о транзакциях (оплатах) пользователей приложения во время эксперимента\n",
    "public_key = 'https://disk.yandex.ru/d/AmucCdboEaowhA'\n",
    "final_url = base_url + urlencode(dict(public_key=public_key))\n",
    "response = requests.get(final_url)\n",
    "h = json.loads(response.text)['href']\n",
    "purchases = pd.read_csv(h, sep=',')"
   ]
  },
  {
   "cell_type": "markdown",
   "metadata": {},
   "source": [
    "Просмотр информации по датафреймам, проверка на пропуски и уникальные значения "
   ]
  },
  {
   "cell_type": "code",
   "execution_count": 3,
   "metadata": {},
   "outputs": [
    {
     "name": "stdout",
     "output_type": "stream",
     "text": [
      "<class 'pandas.core.frame.DataFrame'>\n",
      "RangeIndex: 8341 entries, 0 to 8340\n",
      "Data columns (total 4 columns):\n",
      " #   Column    Non-Null Count  Dtype \n",
      "---  ------    --------------  ----- \n",
      " 0   user_id   8341 non-null   int64 \n",
      " 1   country   8341 non-null   object\n",
      " 2   platform  8341 non-null   object\n",
      " 3   sex       8341 non-null   object\n",
      "dtypes: int64(1), object(3)\n",
      "memory usage: 260.8+ KB\n"
     ]
    }
   ],
   "source": [
    "active_users.info()"
   ]
  },
  {
   "cell_type": "code",
   "execution_count": 4,
   "metadata": {},
   "outputs": [
    {
     "data": {
      "text/plain": [
       "user_id     0\n",
       "country     0\n",
       "platform    0\n",
       "sex         0\n",
       "dtype: int64"
      ]
     },
     "execution_count": 4,
     "metadata": {},
     "output_type": "execute_result"
    }
   ],
   "source": [
    "active_users.isna().sum()"
   ]
  },
  {
   "cell_type": "code",
   "execution_count": 5,
   "metadata": {},
   "outputs": [
    {
     "data": {
      "text/plain": [
       "user_id     8341\n",
       "country        2\n",
       "platform       2\n",
       "sex            2\n",
       "dtype: int64"
      ]
     },
     "execution_count": 5,
     "metadata": {},
     "output_type": "execute_result"
    }
   ],
   "source": [
    "active_users.nunique()"
   ]
  },
  {
   "cell_type": "code",
   "execution_count": 6,
   "metadata": {},
   "outputs": [
    {
     "name": "stdout",
     "output_type": "stream",
     "text": [
      "<class 'pandas.core.frame.DataFrame'>\n",
      "RangeIndex: 74576 entries, 0 to 74575\n",
      "Data columns (total 2 columns):\n",
      " #   Column   Non-Null Count  Dtype \n",
      "---  ------   --------------  ----- \n",
      " 0   user_id  74576 non-null  int64 \n",
      " 1   group    74576 non-null  object\n",
      "dtypes: int64(1), object(1)\n",
      "memory usage: 1.1+ MB\n"
     ]
    }
   ],
   "source": [
    "groups.info()"
   ]
  },
  {
   "cell_type": "code",
   "execution_count": 7,
   "metadata": {},
   "outputs": [
    {
     "data": {
      "text/plain": [
       "user_id    0\n",
       "group      0\n",
       "dtype: int64"
      ]
     },
     "execution_count": 7,
     "metadata": {},
     "output_type": "execute_result"
    }
   ],
   "source": [
    "groups.isna().sum()"
   ]
  },
  {
   "cell_type": "code",
   "execution_count": 8,
   "metadata": {},
   "outputs": [
    {
     "data": {
      "text/plain": [
       "user_id    74576\n",
       "group          2\n",
       "dtype: int64"
      ]
     },
     "execution_count": 8,
     "metadata": {},
     "output_type": "execute_result"
    }
   ],
   "source": [
    "groups.nunique()"
   ]
  },
  {
   "cell_type": "code",
   "execution_count": 9,
   "metadata": {},
   "outputs": [
    {
     "name": "stdout",
     "output_type": "stream",
     "text": [
      "<class 'pandas.core.frame.DataFrame'>\n",
      "RangeIndex: 541 entries, 0 to 540\n",
      "Data columns (total 2 columns):\n",
      " #   Column   Non-Null Count  Dtype  \n",
      "---  ------   --------------  -----  \n",
      " 0   user_id  541 non-null    int64  \n",
      " 1   revenue  541 non-null    float64\n",
      "dtypes: float64(1), int64(1)\n",
      "memory usage: 8.6 KB\n"
     ]
    }
   ],
   "source": [
    "purchases.info()"
   ]
  },
  {
   "cell_type": "code",
   "execution_count": 10,
   "metadata": {},
   "outputs": [
    {
     "data": {
      "text/plain": [
       "user_id    0\n",
       "revenue    0\n",
       "dtype: int64"
      ]
     },
     "execution_count": 10,
     "metadata": {},
     "output_type": "execute_result"
    }
   ],
   "source": [
    "purchases.isna().sum()"
   ]
  },
  {
   "cell_type": "code",
   "execution_count": 11,
   "metadata": {},
   "outputs": [
    {
     "data": {
      "text/plain": [
       "user_id    541\n",
       "revenue     98\n",
       "dtype: int64"
      ]
     },
     "execution_count": 11,
     "metadata": {},
     "output_type": "execute_result"
    }
   ],
   "source": [
    "purchases.nunique()"
   ]
  },
  {
   "cell_type": "markdown",
   "metadata": {},
   "source": [
    "Соединение по user_id всех датафреймов в один df"
   ]
  },
  {
   "cell_type": "code",
   "execution_count": 12,
   "metadata": {
    "scrolled": true
   },
   "outputs": [
    {
     "data": {
      "text/html": [
       "<div>\n",
       "<style scoped>\n",
       "    .dataframe tbody tr th:only-of-type {\n",
       "        vertical-align: middle;\n",
       "    }\n",
       "\n",
       "    .dataframe tbody tr th {\n",
       "        vertical-align: top;\n",
       "    }\n",
       "\n",
       "    .dataframe thead th {\n",
       "        text-align: right;\n",
       "    }\n",
       "</style>\n",
       "<table border=\"1\" class=\"dataframe\">\n",
       "  <thead>\n",
       "    <tr style=\"text-align: right;\">\n",
       "      <th></th>\n",
       "      <th>user_id</th>\n",
       "      <th>country</th>\n",
       "      <th>platform</th>\n",
       "      <th>sex</th>\n",
       "      <th>revenue</th>\n",
       "      <th>group</th>\n",
       "      <th>cps</th>\n",
       "    </tr>\n",
       "  </thead>\n",
       "  <tbody>\n",
       "    <tr>\n",
       "      <th>0</th>\n",
       "      <td>8029</td>\n",
       "      <td>Russia</td>\n",
       "      <td>ios</td>\n",
       "      <td>male</td>\n",
       "      <td>0</td>\n",
       "      <td>B</td>\n",
       "      <td>Russia_ios_male</td>\n",
       "    </tr>\n",
       "    <tr>\n",
       "      <th>1</th>\n",
       "      <td>1735</td>\n",
       "      <td>Sweden</td>\n",
       "      <td>ios</td>\n",
       "      <td>male</td>\n",
       "      <td>0</td>\n",
       "      <td>B</td>\n",
       "      <td>Sweden_ios_male</td>\n",
       "    </tr>\n",
       "    <tr>\n",
       "      <th>2</th>\n",
       "      <td>7697</td>\n",
       "      <td>Russia</td>\n",
       "      <td>android</td>\n",
       "      <td>male</td>\n",
       "      <td>0</td>\n",
       "      <td>B</td>\n",
       "      <td>Russia_android_male</td>\n",
       "    </tr>\n",
       "    <tr>\n",
       "      <th>3</th>\n",
       "      <td>1421</td>\n",
       "      <td>Sweden</td>\n",
       "      <td>android</td>\n",
       "      <td>female</td>\n",
       "      <td>0</td>\n",
       "      <td>B</td>\n",
       "      <td>Sweden_android_female</td>\n",
       "    </tr>\n",
       "    <tr>\n",
       "      <th>4</th>\n",
       "      <td>1704</td>\n",
       "      <td>Russia</td>\n",
       "      <td>ios</td>\n",
       "      <td>male</td>\n",
       "      <td>0</td>\n",
       "      <td>B</td>\n",
       "      <td>Russia_ios_male</td>\n",
       "    </tr>\n",
       "    <tr>\n",
       "      <th>...</th>\n",
       "      <td>...</td>\n",
       "      <td>...</td>\n",
       "      <td>...</td>\n",
       "      <td>...</td>\n",
       "      <td>...</td>\n",
       "      <td>...</td>\n",
       "      <td>...</td>\n",
       "    </tr>\n",
       "    <tr>\n",
       "      <th>8336</th>\n",
       "      <td>2417</td>\n",
       "      <td>Sweden</td>\n",
       "      <td>ios</td>\n",
       "      <td>female</td>\n",
       "      <td>0</td>\n",
       "      <td>B</td>\n",
       "      <td>Sweden_ios_female</td>\n",
       "    </tr>\n",
       "    <tr>\n",
       "      <th>8337</th>\n",
       "      <td>3755</td>\n",
       "      <td>Russia</td>\n",
       "      <td>ios</td>\n",
       "      <td>male</td>\n",
       "      <td>590</td>\n",
       "      <td>A</td>\n",
       "      <td>Russia_ios_male</td>\n",
       "    </tr>\n",
       "    <tr>\n",
       "      <th>8338</th>\n",
       "      <td>4594</td>\n",
       "      <td>Sweden</td>\n",
       "      <td>android</td>\n",
       "      <td>female</td>\n",
       "      <td>0</td>\n",
       "      <td>B</td>\n",
       "      <td>Sweden_android_female</td>\n",
       "    </tr>\n",
       "    <tr>\n",
       "      <th>8339</th>\n",
       "      <td>7430</td>\n",
       "      <td>Sweden</td>\n",
       "      <td>ios</td>\n",
       "      <td>female</td>\n",
       "      <td>0</td>\n",
       "      <td>B</td>\n",
       "      <td>Sweden_ios_female</td>\n",
       "    </tr>\n",
       "    <tr>\n",
       "      <th>8340</th>\n",
       "      <td>2460</td>\n",
       "      <td>Russia</td>\n",
       "      <td>android</td>\n",
       "      <td>female</td>\n",
       "      <td>0</td>\n",
       "      <td>B</td>\n",
       "      <td>Russia_android_female</td>\n",
       "    </tr>\n",
       "  </tbody>\n",
       "</table>\n",
       "<p>8341 rows × 7 columns</p>\n",
       "</div>"
      ],
      "text/plain": [
       "      user_id country platform     sex  revenue group                    cps\n",
       "0        8029  Russia      ios    male        0     B        Russia_ios_male\n",
       "1        1735  Sweden      ios    male        0     B        Sweden_ios_male\n",
       "2        7697  Russia  android    male        0     B    Russia_android_male\n",
       "3        1421  Sweden  android  female        0     B  Sweden_android_female\n",
       "4        1704  Russia      ios    male        0     B        Russia_ios_male\n",
       "...       ...     ...      ...     ...      ...   ...                    ...\n",
       "8336     2417  Sweden      ios  female        0     B      Sweden_ios_female\n",
       "8337     3755  Russia      ios    male      590     A        Russia_ios_male\n",
       "8338     4594  Sweden  android  female        0     B  Sweden_android_female\n",
       "8339     7430  Sweden      ios  female        0     B      Sweden_ios_female\n",
       "8340     2460  Russia  android  female        0     B  Russia_android_female\n",
       "\n",
       "[8341 rows x 7 columns]"
      ]
     },
     "execution_count": 12,
     "metadata": {},
     "output_type": "execute_result"
    }
   ],
   "source": [
    "df = active_users.merge(purchases, how='left', on='user_id')\n",
    "df.revenue.fillna(0, inplace=True)\n",
    "df.revenue = df['revenue'].astype(int)\n",
    "df = df.merge(groups, on='user_id')\n",
    "df['cps'] = df['country'] + '_' + df['platform'] + '_' + df['sex']  # для дашборда\n",
    "df.to_csv('stories.csv')\n",
    "df"
   ]
  },
  {
   "cell_type": "markdown",
   "metadata": {},
   "source": [
    "Количество пользователей по прибыли"
   ]
  },
  {
   "cell_type": "code",
   "execution_count": 13,
   "metadata": {},
   "outputs": [
    {
     "data": {
      "text/plain": [
       "<seaborn.axisgrid.FacetGrid at 0x7fa10540bba8>"
      ]
     },
     "execution_count": 13,
     "metadata": {},
     "output_type": "execute_result"
    },
    {
     "data": {
      "image/png": "[encoded data removed]",
      "text/plain": [
       "<Figure size 360x360 with 1 Axes>"
      ]
     },
     "metadata": {
      "needs_background": "light"
     },
     "output_type": "display_data"
    }
   ],
   "source": [
    "sns.displot(df.revenue, kde=False)"
   ]
  },
  {
   "cell_type": "markdown",
   "metadata": {},
   "source": [
    "Как видно из прошлого графика, громадное число значений скорее всего равно 0. Соответственно, гораздо важнее увидеть закономерности при revenue > 0 "
   ]
  },
  {
   "cell_type": "code",
   "execution_count": 14,
   "metadata": {},
   "outputs": [
    {
     "data": {
      "text/plain": [
       "<seaborn.axisgrid.FacetGrid at 0x7fa105427860>"
      ]
     },
     "execution_count": 14,
     "metadata": {},
     "output_type": "execute_result"
    },
    {
     "data": {
      "image/png": "[encoded data removed]",
      "text/plain": [
       "<Figure size 360x360 with 1 Axes>"
      ]
     },
     "metadata": {
      "needs_background": "light"
     },
     "output_type": "display_data"
    }
   ],
   "source": [
    "sns.displot(df[df.revenue > 0].revenue, kde=False)"
   ]
  },
  {
   "cell_type": "markdown",
   "metadata": {},
   "source": [
    "Теперь важно рассмотреть, видна ли разница на графиках контрольной и тестовой группы"
   ]
  },
  {
   "cell_type": "code",
   "execution_count": 15,
   "metadata": {},
   "outputs": [
    {
     "data": {
      "text/plain": [
       "<seaborn.axisgrid.FacetGrid at 0x7fa104a372e8>"
      ]
     },
     "execution_count": 15,
     "metadata": {},
     "output_type": "execute_result"
    },
    {
     "data": {
      "image/png": "[encoded data removed]",
      "text/plain": [
       "<Figure size 360x360 with 1 Axes>"
      ]
     },
     "metadata": {
      "needs_background": "light"
     },
     "output_type": "display_data"
    }
   ],
   "source": [
    "sns.displot(df[(df.group == 'A') & (df.revenue > 0)].revenue, kde=False)"
   ]
  },
  {
   "cell_type": "code",
   "execution_count": 16,
   "metadata": {},
   "outputs": [
    {
     "data": {
      "text/plain": [
       "<seaborn.axisgrid.FacetGrid at 0x7fa10526ec18>"
      ]
     },
     "execution_count": 16,
     "metadata": {},
     "output_type": "execute_result"
    },
    {
     "data": {
      "image/png": "[encoded data removed]",
      "text/plain": [
       "<Figure size 360x360 with 1 Axes>"
      ]
     },
     "metadata": {
      "needs_background": "light"
     },
     "output_type": "display_data"
    }
   ],
   "source": [
    "sns.displot(df[(df.group == 'B') & (df.revenue > 0)].revenue, kde=False)"
   ]
  },
  {
   "cell_type": "markdown",
   "metadata": {},
   "source": [
    "Видно, что в процентом соотношении гораздо больше пользователей потратили около 2000.\n",
    "\n",
    "Важно понять, отсутствует ли взаимосвязь между пользователями, которые совершили оплату, и группой эксперимента (нулевая гипотеза)"
   ]
  },
  {
   "cell_type": "code",
   "execution_count": 17,
   "metadata": {},
   "outputs": [],
   "source": [
    "df['pay'] = df.revenue.apply(lambda x: 'pay' if x > 0 else 'not_pay')"
   ]
  },
  {
   "cell_type": "code",
   "execution_count": 18,
   "metadata": {},
   "outputs": [
    {
     "data": {
      "text/html": [
       "<div>\n",
       "<style scoped>\n",
       "    .dataframe tbody tr th:only-of-type {\n",
       "        vertical-align: middle;\n",
       "    }\n",
       "\n",
       "    .dataframe tbody tr th {\n",
       "        vertical-align: top;\n",
       "    }\n",
       "\n",
       "    .dataframe thead th {\n",
       "        text-align: right;\n",
       "    }\n",
       "</style>\n",
       "<table border=\"1\" class=\"dataframe\">\n",
       "  <thead>\n",
       "    <tr style=\"text-align: right;\">\n",
       "      <th>group</th>\n",
       "      <th>A</th>\n",
       "      <th>B</th>\n",
       "    </tr>\n",
       "    <tr>\n",
       "      <th>pay</th>\n",
       "      <th></th>\n",
       "      <th></th>\n",
       "    </tr>\n",
       "  </thead>\n",
       "  <tbody>\n",
       "    <tr>\n",
       "      <th>not_pay</th>\n",
       "      <td>1460</td>\n",
       "      <td>6489</td>\n",
       "    </tr>\n",
       "    <tr>\n",
       "      <th>pay</th>\n",
       "      <td>78</td>\n",
       "      <td>314</td>\n",
       "    </tr>\n",
       "  </tbody>\n",
       "</table>\n",
       "</div>"
      ],
      "text/plain": [
       "group       A     B\n",
       "pay                \n",
       "not_pay  1460  6489\n",
       "pay        78   314"
      ]
     },
     "execution_count": 18,
     "metadata": {},
     "output_type": "execute_result"
    }
   ],
   "source": [
    "pd.crosstab(df.pay, df.group)"
   ]
  },
  {
   "cell_type": "code",
   "execution_count": 19,
   "metadata": {},
   "outputs": [
    {
     "data": {
      "text/plain": [
       "0.48625240457231045"
      ]
     },
     "execution_count": 19,
     "metadata": {},
     "output_type": "execute_result"
    }
   ],
   "source": [
    "value_group = chi2_contingency(pd.crosstab(df.pay, df.group))\n",
    "value_group[1]  # p_value"
   ]
  },
  {
   "cell_type": "markdown",
   "metadata": {},
   "source": [
    "Значение p-value намного превышает 0.05, следовательно, нет никаких оснований опровергнуть нулевую гипотезу об отсутствии взаимосвязи между переменными.\n",
    "\n",
    "Требуется проверить, возможно где-то просто проблема с платформой, либо имеются предпочтения от страны или пола"
   ]
  },
  {
   "cell_type": "code",
   "execution_count": 20,
   "metadata": {},
   "outputs": [
    {
     "data": {
      "text/html": [
       "<div>\n",
       "<style scoped>\n",
       "    .dataframe tbody tr th:only-of-type {\n",
       "        vertical-align: middle;\n",
       "    }\n",
       "\n",
       "    .dataframe tbody tr th {\n",
       "        vertical-align: top;\n",
       "    }\n",
       "\n",
       "    .dataframe thead th {\n",
       "        text-align: right;\n",
       "    }\n",
       "</style>\n",
       "<table border=\"1\" class=\"dataframe\">\n",
       "  <thead>\n",
       "    <tr style=\"text-align: right;\">\n",
       "      <th>platform</th>\n",
       "      <th>android</th>\n",
       "      <th>ios</th>\n",
       "    </tr>\n",
       "    <tr>\n",
       "      <th>pay</th>\n",
       "      <th></th>\n",
       "      <th></th>\n",
       "    </tr>\n",
       "  </thead>\n",
       "  <tbody>\n",
       "    <tr>\n",
       "      <th>not_pay</th>\n",
       "      <td>4413</td>\n",
       "      <td>3536</td>\n",
       "    </tr>\n",
       "    <tr>\n",
       "      <th>pay</th>\n",
       "      <td>208</td>\n",
       "      <td>184</td>\n",
       "    </tr>\n",
       "  </tbody>\n",
       "</table>\n",
       "</div>"
      ],
      "text/plain": [
       "platform  android   ios\n",
       "pay                    \n",
       "not_pay      4413  3536\n",
       "pay           208   184"
      ]
     },
     "execution_count": 20,
     "metadata": {},
     "output_type": "execute_result"
    }
   ],
   "source": [
    "pd.crosstab(df.pay, df.platform)"
   ]
  },
  {
   "cell_type": "code",
   "execution_count": 21,
   "metadata": {},
   "outputs": [
    {
     "data": {
      "text/plain": [
       "0.3667222543587335"
      ]
     },
     "execution_count": 21,
     "metadata": {},
     "output_type": "execute_result"
    }
   ],
   "source": [
    "value_platform = chi2_contingency(pd.crosstab(df.pay, df.platform))\n",
    "value_platform[1]  # p_value"
   ]
  },
  {
   "cell_type": "code",
   "execution_count": 22,
   "metadata": {},
   "outputs": [
    {
     "data": {
      "text/plain": [
       "<seaborn.axisgrid.FacetGrid at 0x7fa104a064a8>"
      ]
     },
     "execution_count": 22,
     "metadata": {},
     "output_type": "execute_result"
    },
    {
     "data": {
      "image/png": "[encoded data removed]",
      "text/plain": [
       "<Figure size 360x360 with 1 Axes>"
      ]
     },
     "metadata": {
      "needs_background": "light"
     },
     "output_type": "display_data"
    }
   ],
   "source": [
    "sns.displot(df[(df.platform == 'android') & (df.revenue > 0)].revenue, kde=False)"
   ]
  },
  {
   "cell_type": "code",
   "execution_count": 23,
   "metadata": {},
   "outputs": [
    {
     "data": {
      "text/plain": [
       "<seaborn.axisgrid.FacetGrid at 0x7fa0e1e05128>"
      ]
     },
     "execution_count": 23,
     "metadata": {},
     "output_type": "execute_result"
    },
    {
     "data": {
      "image/png": "[encoded data removed]",
      "text/plain": [
       "<Figure size 360x360 with 1 Axes>"
      ]
     },
     "metadata": {
      "needs_background": "light"
     },
     "output_type": "display_data"
    }
   ],
   "source": [
    "sns.displot(df[(df.platform == 'ios') & (df.revenue > 0)].revenue, kde=False)"
   ]
  },
  {
   "cell_type": "code",
   "execution_count": 24,
   "metadata": {},
   "outputs": [
    {
     "data": {
      "text/html": [
       "<div>\n",
       "<style scoped>\n",
       "    .dataframe tbody tr th:only-of-type {\n",
       "        vertical-align: middle;\n",
       "    }\n",
       "\n",
       "    .dataframe tbody tr th {\n",
       "        vertical-align: top;\n",
       "    }\n",
       "\n",
       "    .dataframe thead th {\n",
       "        text-align: right;\n",
       "    }\n",
       "</style>\n",
       "<table border=\"1\" class=\"dataframe\">\n",
       "  <thead>\n",
       "    <tr style=\"text-align: right;\">\n",
       "      <th>sex</th>\n",
       "      <th>female</th>\n",
       "      <th>male</th>\n",
       "    </tr>\n",
       "    <tr>\n",
       "      <th>pay</th>\n",
       "      <th></th>\n",
       "      <th></th>\n",
       "    </tr>\n",
       "  </thead>\n",
       "  <tbody>\n",
       "    <tr>\n",
       "      <th>not_pay</th>\n",
       "      <td>3954</td>\n",
       "      <td>3995</td>\n",
       "    </tr>\n",
       "    <tr>\n",
       "      <th>pay</th>\n",
       "      <td>191</td>\n",
       "      <td>201</td>\n",
       "    </tr>\n",
       "  </tbody>\n",
       "</table>\n",
       "</div>"
      ],
      "text/plain": [
       "sex      female  male\n",
       "pay                  \n",
       "not_pay    3954  3995\n",
       "pay         191   201"
      ]
     },
     "execution_count": 24,
     "metadata": {},
     "output_type": "execute_result"
    }
   ],
   "source": [
    "pd.crosstab(df.pay, df.sex)"
   ]
  },
  {
   "cell_type": "code",
   "execution_count": 25,
   "metadata": {},
   "outputs": [
    {
     "data": {
      "text/plain": [
       "0.7326210380083343"
      ]
     },
     "execution_count": 25,
     "metadata": {},
     "output_type": "execute_result"
    }
   ],
   "source": [
    "value_sex = chi2_contingency(pd.crosstab(df.pay, df.sex))\n",
    "value_sex[1]  # p_value"
   ]
  },
  {
   "cell_type": "code",
   "execution_count": 26,
   "metadata": {},
   "outputs": [
    {
     "data": {
      "text/plain": [
       "<seaborn.axisgrid.FacetGrid at 0x7fa0e1e33400>"
      ]
     },
     "execution_count": 26,
     "metadata": {},
     "output_type": "execute_result"
    },
    {
     "data": {
      "image/png": "[encoded data removed]",
      "text/plain": [
       "<Figure size 360x360 with 1 Axes>"
      ]
     },
     "metadata": {
      "needs_background": "light"
     },
     "output_type": "display_data"
    }
   ],
   "source": [
    "sns.displot(df[(df.sex == 'female') & (df.revenue > 0)].revenue, kde=False)"
   ]
  },
  {
   "cell_type": "code",
   "execution_count": 27,
   "metadata": {},
   "outputs": [
    {
     "data": {
      "text/plain": [
       "<seaborn.axisgrid.FacetGrid at 0x7fa10540beb8>"
      ]
     },
     "execution_count": 27,
     "metadata": {},
     "output_type": "execute_result"
    },
    {
     "data": {
      "image/png": "[encoded data removed]",
      "text/plain": [
       "<Figure size 360x360 with 1 Axes>"
      ]
     },
     "metadata": {
      "needs_background": "light"
     },
     "output_type": "display_data"
    }
   ],
   "source": [
    "sns.displot(df[(df.sex == 'male') & (df.revenue > 0)].revenue, kde=False)"
   ]
  },
  {
   "cell_type": "code",
   "execution_count": 28,
   "metadata": {},
   "outputs": [
    {
     "data": {
      "text/html": [
       "<div>\n",
       "<style scoped>\n",
       "    .dataframe tbody tr th:only-of-type {\n",
       "        vertical-align: middle;\n",
       "    }\n",
       "\n",
       "    .dataframe tbody tr th {\n",
       "        vertical-align: top;\n",
       "    }\n",
       "\n",
       "    .dataframe thead th {\n",
       "        text-align: right;\n",
       "    }\n",
       "</style>\n",
       "<table border=\"1\" class=\"dataframe\">\n",
       "  <thead>\n",
       "    <tr style=\"text-align: right;\">\n",
       "      <th>country</th>\n",
       "      <th>Russia</th>\n",
       "      <th>Sweden</th>\n",
       "    </tr>\n",
       "    <tr>\n",
       "      <th>pay</th>\n",
       "      <th></th>\n",
       "      <th></th>\n",
       "    </tr>\n",
       "  </thead>\n",
       "  <tbody>\n",
       "    <tr>\n",
       "      <th>not_pay</th>\n",
       "      <td>5167</td>\n",
       "      <td>2782</td>\n",
       "    </tr>\n",
       "    <tr>\n",
       "      <th>pay</th>\n",
       "      <td>240</td>\n",
       "      <td>152</td>\n",
       "    </tr>\n",
       "  </tbody>\n",
       "</table>\n",
       "</div>"
      ],
      "text/plain": [
       "country  Russia  Sweden\n",
       "pay                    \n",
       "not_pay    5167    2782\n",
       "pay         240     152"
      ]
     },
     "execution_count": 28,
     "metadata": {},
     "output_type": "execute_result"
    }
   ],
   "source": [
    "pd.crosstab(df.pay, df.country)"
   ]
  },
  {
   "cell_type": "code",
   "execution_count": 29,
   "metadata": {},
   "outputs": [
    {
     "data": {
      "text/plain": [
       "0.14027322855215643"
      ]
     },
     "execution_count": 29,
     "metadata": {},
     "output_type": "execute_result"
    }
   ],
   "source": [
    "value_country = chi2_contingency(pd.crosstab(df.pay, df.country))\n",
    "value_country[1]  # p_value"
   ]
  },
  {
   "cell_type": "code",
   "execution_count": 30,
   "metadata": {},
   "outputs": [
    {
     "data": {
      "text/plain": [
       "<seaborn.axisgrid.FacetGrid at 0x7fa0e1ce4908>"
      ]
     },
     "execution_count": 30,
     "metadata": {},
     "output_type": "execute_result"
    },
    {
     "data": {
      "image/png": "[encoded data removed]",
      "text/plain": [
       "<Figure size 360x360 with 1 Axes>"
      ]
     },
     "metadata": {
      "needs_background": "light"
     },
     "output_type": "display_data"
    }
   ],
   "source": [
    "sns.displot(df[(df.country == 'Russia') & (df.revenue > 0)].revenue, kde=False)"
   ]
  },
  {
   "cell_type": "code",
   "execution_count": 31,
   "metadata": {},
   "outputs": [
    {
     "data": {
      "text/plain": [
       "<seaborn.axisgrid.FacetGrid at 0x7fa0e1d27f28>"
      ]
     },
     "execution_count": 31,
     "metadata": {},
     "output_type": "execute_result"
    },
    {
     "data": {
      "image/png": "[encoded data removed]",
      "text/plain": [
       "<Figure size 360x360 with 1 Axes>"
      ]
     },
     "metadata": {
      "needs_background": "light"
     },
     "output_type": "display_data"
    }
   ],
   "source": [
    "sns.displot(df[(df.country == 'Sweden') & (df.revenue > 0)].revenue, kde=False)"
   ]
  },
  {
   "cell_type": "markdown",
   "metadata": {},
   "source": [
    "На основании вышеизложенных данных p-value и графиков невозможно прийти к выводу, что какая-то техническая проблема или предпочтение пола/страны."
   ]
  },
  {
   "cell_type": "markdown",
   "metadata": {},
   "source": [
    "В следующем блоке рассмотрены некоторые продуктовые метрики для контрольной и тестовой группы:\n",
    "1. CR (конверсия) - отношение числа пользователей, которые принесли доход к общему числу пользователей;\n",
    "2. ARPPU (средний доход на платящего пользователя) - высчитывается как отношение общего дохода на количество заплативших пользователей;\n",
    "3. ARPU (средний доход с привлеченного пользователя) - произведение конверсии и среднего дохода на платящего пользователя."
   ]
  },
  {
   "cell_type": "code",
   "execution_count": 32,
   "metadata": {},
   "outputs": [
    {
     "data": {
      "text/plain": [
       "0.05071521456436931"
      ]
     },
     "execution_count": 32,
     "metadata": {},
     "output_type": "execute_result"
    }
   ],
   "source": [
    "CR_control = df[(df.revenue > 0) & (df.group == 'A')].shape[0] / df[df.group == 'A'].shape[0]\n",
    "CR_control"
   ]
  },
  {
   "cell_type": "code",
   "execution_count": 33,
   "metadata": {},
   "outputs": [
    {
     "data": {
      "text/plain": [
       "0.046156107599588415"
      ]
     },
     "execution_count": 33,
     "metadata": {},
     "output_type": "execute_result"
    }
   ],
   "source": [
    "CR_test = df[(df.revenue > 0) & (df.group == 'B')].shape[0] / df[df.group == 'B'].shape[0]\n",
    "CR_test"
   ]
  },
  {
   "cell_type": "code",
   "execution_count": 34,
   "metadata": {},
   "outputs": [
    {
     "name": "stdout",
     "output_type": "stream",
     "text": [
      "CR уменьшился на 9.88%\n"
     ]
    }
   ],
   "source": [
    "if CR_control > CR_test:\n",
    "    print(\"CR уменьшился на {0:.2f}%\".format((CR_control / CR_test - 1) * 100))\n",
    "elif CR_control < CR_test:\n",
    "    print(\"CR увеличился на {0:.2f}%\".format((CR_test / CR_control - 1) * 100))\n",
    "else:\n",
    "    print(\"CR не изменился\")"
   ]
  },
  {
   "cell_type": "code",
   "execution_count": 35,
   "metadata": {},
   "outputs": [
    {
     "data": {
      "text/plain": [
       "943.5641025641025"
      ]
     },
     "execution_count": 35,
     "metadata": {},
     "output_type": "execute_result"
    }
   ],
   "source": [
    "ARPPU_control = df[df.group == 'A'].revenue.sum() / df[(df.revenue > 0) & (df.group == 'A')].shape[0]\n",
    "ARPPU_control"
   ]
  },
  {
   "cell_type": "code",
   "execution_count": 36,
   "metadata": {},
   "outputs": [
    {
     "data": {
      "text/plain": [
       "1267.875796178344"
      ]
     },
     "execution_count": 36,
     "metadata": {},
     "output_type": "execute_result"
    }
   ],
   "source": [
    "ARPPU_test = df[df.group == 'B'].revenue.sum() / df[(df.revenue > 0) & (df.group == 'B')].shape[0]\n",
    "ARPPU_test"
   ]
  },
  {
   "cell_type": "code",
   "execution_count": 37,
   "metadata": {},
   "outputs": [
    {
     "name": "stdout",
     "output_type": "stream",
     "text": [
      "ARPPU увеличился на 34.37%\n"
     ]
    }
   ],
   "source": [
    "if ARPPU_control > ARPPU_test:\n",
    "    print(\"ARPPU уменьшился на {0:.2f}%\".format((ARPPU_control / ARPPU_test - 1) * 100))\n",
    "elif ARPPU_control < ARPPU_test:\n",
    "    print(\"ARPPU увеличился на {0:.2f}%\".format((ARPPU_test / ARPPU_control - 1) * 100))\n",
    "else:\n",
    "    print(\"ARPPU не изменился\")"
   ]
  },
  {
   "cell_type": "code",
   "execution_count": 38,
   "metadata": {},
   "outputs": [
    {
     "data": {
      "text/plain": [
       "47.85305591677503"
      ]
     },
     "execution_count": 38,
     "metadata": {},
     "output_type": "execute_result"
    }
   ],
   "source": [
    "ARPU_control = CR_control * ARPPU_control\n",
    "ARPU_control"
   ]
  },
  {
   "cell_type": "code",
   "execution_count": 39,
   "metadata": {},
   "outputs": [
    {
     "data": {
      "text/plain": [
       "58.520211671321476"
      ]
     },
     "execution_count": 39,
     "metadata": {},
     "output_type": "execute_result"
    }
   ],
   "source": [
    "ARPU_test = CR_test * ARPPU_test\n",
    "ARPU_test"
   ]
  },
  {
   "cell_type": "code",
   "execution_count": 40,
   "metadata": {},
   "outputs": [
    {
     "name": "stdout",
     "output_type": "stream",
     "text": [
      "ARPU увеличился на 22.29%\n"
     ]
    }
   ],
   "source": [
    "if ARPU_control > ARPU_test:\n",
    "    print(\"ARPU уменьшился на {0:.2f}%\".format((ARPU_control / ARPU_test - 1) * 100))\n",
    "elif ARPU_control < ARPU_test:\n",
    "    print(\"ARPU увеличился на {0:.2f}%\".format((ARPU_test / ARPU_control - 1) * 100))\n",
    "else:\n",
    "    print(\"ARPU не изменился\")"
   ]
  },
  {
   "cell_type": "markdown",
   "metadata": {},
   "source": [
    "В итоге, хоть конверсия и уменьшилась на 9.88%, но вот средний доход на пользователя увеличился на 22.29%."
   ]
  },
  {
   "cell_type": "markdown",
   "metadata": {},
   "source": [
    "Являются ли статистически значимыми изменения? Для проверки используется метод bootstrap. U-критерий Манна-Уитни не подходит, так как в выборках присутстуют повторяющиеся значения, а значит, будет потеряна точность.\n",
    "\n",
    "H0 (нулевая гипотеза): Различий в доходах между двумя группами нет.\n",
    "\n",
    "H1 (альтернативная гипотеза): Есть различия в доходах между двумя группами"
   ]
  },
  {
   "cell_type": "code",
   "execution_count": 41,
   "metadata": {},
   "outputs": [],
   "source": [
    "def get_bootstrap(data_column_1, data_column_2, boot_it=2000, statistic=np.mean, bootstrap_conf_level=0.95):\n",
    "    boot_len = max([len(data_column_1), len(data_column_2)])\n",
    "    boot_data = []\n",
    "    \n",
    "    for i in range(boot_it):\n",
    "        samples_1 = data_column_1.sample(boot_len, replace=True).values\n",
    "        samples_2 = data_column_2.sample(boot_len, replace=True).values\n",
    "        \n",
    "        boot_data.append(statistic(samples_1 - samples_2))\n",
    "        \n",
    "    pd_boot_data = pd.DataFrame(boot_data)     \n",
    "    left_quant = (1 - bootstrap_conf_level) / 2\n",
    "    right_quant = 1 - (1 - bootstrap_conf_level) / 2\n",
    "    ci = pd_boot_data.quantile([left_quant, right_quant])\n",
    "        \n",
    "    p_1 = norm.cdf(x=0, loc=np.mean(boot_data), scale=np.std(boot_data))\n",
    "    p_2 = norm.cdf(x=0, loc=-np.mean(boot_data), scale=np.std(boot_data))\n",
    "    p_value = min(p_1, p_2) * 2\n",
    "        \n",
    "    # Визуализация\n",
    "    plt.hist(pd_boot_data[0], bins=50)\n",
    "    plt.vlines(ci, ymin=0, ymax=50, linestyle='--')\n",
    "    plt.xlabel('boot_data')\n",
    "    plt.ylabel('frequency')\n",
    "    plt.title(\"Histogram of boot_data\")\n",
    "       \n",
    "    return p_value"
   ]
  },
  {
   "cell_type": "code",
   "execution_count": 42,
   "metadata": {},
   "outputs": [
    {
     "name": "stdout",
     "output_type": "stream",
     "text": [
      "1.8497026676728492e-06\n",
      "1.5019431620509883e-06\n",
      "2.3744159396252247e-06\n",
      "2.5674893224383675e-06\n",
      "3.61551320754183e-06\n",
      "1.990165026806799e-06\n",
      "1.5158202321294466e-06\n",
      "1.6986443889941444e-06\n",
      "1.8004694265690488e-06\n",
      "2.140516185286885e-06\n",
      "mean = 2.105467955911558e-06\n",
      "p-value < 0.05 -> Есть статистически значимые различия в доходах между двумя данными группами\n"
     ]
    },
    {
     "data": {
      "image/png": "[encoded data removed]",
      "text/plain": [
       "<Figure size 432x288 with 1 Axes>"
      ]
     },
     "metadata": {
      "needs_background": "light"
     },
     "output_type": "display_data"
    }
   ],
   "source": [
    "# только revenue > 0\n",
    "lst = []\n",
    "for i in range(10):\n",
    "    it = get_bootstrap(df[(df.group == 'A') & (df.revenue > 0)].revenue,\n",
    "                       df[(df.group == 'B') & (df.revenue > 0)].revenue)\n",
    "    lst.append(it)\n",
    "    print(it)\n",
    "print(f'mean = {mean(lst)}')\n",
    "if mean(lst) < 0.05:\n",
    "    print('p-value < 0.05 -> Есть статистически значимые различия в доходах между двумя данными группами')\n",
    "else:\n",
    "    print('p-value >= 0.05 -> Нельзя утверждать, что есть различия в доходах между двумя данными группами')"
   ]
  },
  {
   "cell_type": "code",
   "execution_count": 43,
   "metadata": {},
   "outputs": [
    {
     "name": "stdout",
     "output_type": "stream",
     "text": [
      "0.035229479556409114\n",
      "0.051770848185399294\n",
      "0.04578343091449144\n",
      "0.04071981381265015\n",
      "0.047501164270655684\n",
      "0.04333389996494694\n",
      "0.0433324047965334\n",
      "0.04399180465719379\n",
      "0.03912575814917774\n",
      "0.0490157558771604\n",
      "mean = 0.04398043601846179\n",
      "p-value < 0.05 -> Есть статистически значимые различия в доходах между двумя данными группами\n"
     ]
    },
    {
     "data": {
      "image/png": "[encoded data removed]",
      "text/plain": [
       "<Figure size 432x288 with 1 Axes>"
      ]
     },
     "metadata": {
      "needs_background": "light"
     },
     "output_type": "display_data"
    }
   ],
   "source": [
    "lst = []\n",
    "for i in range(10):\n",
    "    it = get_bootstrap(df[df.group == 'A'].revenue, df[df.group == 'B'].revenue)\n",
    "    lst.append(it)\n",
    "    print(it)\n",
    "print(f'mean = {mean(lst)}')\n",
    "if mean(lst) < 0.05:\n",
    "    print('p-value < 0.05 -> Есть статистически значимые различия в доходах между двумя данными группами')\n",
    "else:\n",
    "    print('p-value >= 0.05 -> Нельзя утверждать, что есть различия в доходах между двумя данными группами')"
   ]
  },
  {
   "cell_type": "markdown",
   "metadata": {},
   "source": [
    "При анализе с ненулевыми значениями p-value крайне мало, но и при нулевых значениях затрат пользователей p-value меньше 0.05, поэтому можно с уверенностью отклонить нулевую гипотезу и принять альтернативную, что различия в доходах контрольной и тестовой группы статистически значимы.\n",
    "\n",
    "На основании этого, можно выкатить новую модель на остальных пользователей, но стоит еще проверить на отдельных подкатегориях пользователей"
   ]
  },
  {
   "cell_type": "code",
   "execution_count": 44,
   "metadata": {},
   "outputs": [],
   "source": [
    "# Серия даратфрейма с единым параметром имен\n",
    "df['general_name'] = df['country'] + '_' + df['platform'] + '_' + df['sex'] + '_' + df['group']"
   ]
  },
  {
   "cell_type": "code",
   "execution_count": 45,
   "metadata": {},
   "outputs": [
    {
     "data": {
      "text/html": [
       "<div>\n",
       "<style scoped>\n",
       "    .dataframe tbody tr th:only-of-type {\n",
       "        vertical-align: middle;\n",
       "    }\n",
       "\n",
       "    .dataframe tbody tr th {\n",
       "        vertical-align: top;\n",
       "    }\n",
       "\n",
       "    .dataframe thead th {\n",
       "        text-align: right;\n",
       "    }\n",
       "</style>\n",
       "<table border=\"1\" class=\"dataframe\">\n",
       "  <thead>\n",
       "    <tr style=\"text-align: right;\">\n",
       "      <th></th>\n",
       "      <th>revenue</th>\n",
       "    </tr>\n",
       "    <tr>\n",
       "      <th>general_name</th>\n",
       "      <th></th>\n",
       "    </tr>\n",
       "  </thead>\n",
       "  <tbody>\n",
       "    <tr>\n",
       "      <th>Sweden_android_female_A</th>\n",
       "      <td>6</td>\n",
       "    </tr>\n",
       "    <tr>\n",
       "      <th>Sweden_ios_female_A</th>\n",
       "      <td>7</td>\n",
       "    </tr>\n",
       "    <tr>\n",
       "      <th>Russia_android_male_A</th>\n",
       "      <td>8</td>\n",
       "    </tr>\n",
       "    <tr>\n",
       "      <th>Sweden_ios_male_A</th>\n",
       "      <td>8</td>\n",
       "    </tr>\n",
       "    <tr>\n",
       "      <th>Russia_android_female_A</th>\n",
       "      <td>11</td>\n",
       "    </tr>\n",
       "    <tr>\n",
       "      <th>Russia_ios_male_A</th>\n",
       "      <td>11</td>\n",
       "    </tr>\n",
       "    <tr>\n",
       "      <th>Russia_ios_female_A</th>\n",
       "      <td>13</td>\n",
       "    </tr>\n",
       "    <tr>\n",
       "      <th>Sweden_android_male_A</th>\n",
       "      <td>14</td>\n",
       "    </tr>\n",
       "    <tr>\n",
       "      <th>Sweden_ios_male_B</th>\n",
       "      <td>24</td>\n",
       "    </tr>\n",
       "    <tr>\n",
       "      <th>Sweden_ios_female_B</th>\n",
       "      <td>27</td>\n",
       "    </tr>\n",
       "    <tr>\n",
       "      <th>Sweden_android_female_B</th>\n",
       "      <td>33</td>\n",
       "    </tr>\n",
       "    <tr>\n",
       "      <th>Sweden_android_male_B</th>\n",
       "      <td>33</td>\n",
       "    </tr>\n",
       "    <tr>\n",
       "      <th>Russia_ios_female_B</th>\n",
       "      <td>45</td>\n",
       "    </tr>\n",
       "    <tr>\n",
       "      <th>Russia_android_female_B</th>\n",
       "      <td>49</td>\n",
       "    </tr>\n",
       "    <tr>\n",
       "      <th>Russia_ios_male_B</th>\n",
       "      <td>49</td>\n",
       "    </tr>\n",
       "    <tr>\n",
       "      <th>Russia_android_male_B</th>\n",
       "      <td>54</td>\n",
       "    </tr>\n",
       "  </tbody>\n",
       "</table>\n",
       "</div>"
      ],
      "text/plain": [
       "                         revenue\n",
       "general_name                    \n",
       "Sweden_android_female_A        6\n",
       "Sweden_ios_female_A            7\n",
       "Russia_android_male_A          8\n",
       "Sweden_ios_male_A              8\n",
       "Russia_android_female_A       11\n",
       "Russia_ios_male_A             11\n",
       "Russia_ios_female_A           13\n",
       "Sweden_android_male_A         14\n",
       "Sweden_ios_male_B             24\n",
       "Sweden_ios_female_B           27\n",
       "Sweden_android_female_B       33\n",
       "Sweden_android_male_B         33\n",
       "Russia_ios_female_B           45\n",
       "Russia_android_female_B       49\n",
       "Russia_ios_male_B             49\n",
       "Russia_android_male_B         54"
      ]
     },
     "execution_count": 45,
     "metadata": {},
     "output_type": "execute_result"
    }
   ],
   "source": [
    "# количество пользователей в каждой подкатегории\n",
    "df[df.revenue > 0].groupby('general_name').agg({'revenue': 'count'}).sort_values(by='revenue')"
   ]
  },
  {
   "cell_type": "code",
   "execution_count": 46,
   "metadata": {},
   "outputs": [
    {
     "data": {
      "text/html": [
       "<div>\n",
       "<style scoped>\n",
       "    .dataframe tbody tr th:only-of-type {\n",
       "        vertical-align: middle;\n",
       "    }\n",
       "\n",
       "    .dataframe tbody tr th {\n",
       "        vertical-align: top;\n",
       "    }\n",
       "\n",
       "    .dataframe thead th {\n",
       "        text-align: right;\n",
       "    }\n",
       "</style>\n",
       "<table border=\"1\" class=\"dataframe\">\n",
       "  <thead>\n",
       "    <tr style=\"text-align: right;\">\n",
       "      <th></th>\n",
       "      <th>revenue</th>\n",
       "    </tr>\n",
       "    <tr>\n",
       "      <th>general_name</th>\n",
       "      <th></th>\n",
       "    </tr>\n",
       "  </thead>\n",
       "  <tbody>\n",
       "    <tr>\n",
       "      <th>Russia_android_male_A</th>\n",
       "      <td>208</td>\n",
       "    </tr>\n",
       "    <tr>\n",
       "      <th>Sweden_ios_female_A</th>\n",
       "      <td>208</td>\n",
       "    </tr>\n",
       "    <tr>\n",
       "      <th>Russia_android_female_A</th>\n",
       "      <td>298</td>\n",
       "    </tr>\n",
       "    <tr>\n",
       "      <th>Russia_ios_female_A</th>\n",
       "      <td>300</td>\n",
       "    </tr>\n",
       "    <tr>\n",
       "      <th>Russia_ios_male_A</th>\n",
       "      <td>300</td>\n",
       "    </tr>\n",
       "    <tr>\n",
       "      <th>Sweden_android_male_A</th>\n",
       "      <td>300</td>\n",
       "    </tr>\n",
       "    <tr>\n",
       "      <th>Sweden_android_female_A</th>\n",
       "      <td>301</td>\n",
       "    </tr>\n",
       "    <tr>\n",
       "      <th>Sweden_ios_male_A</th>\n",
       "      <td>301</td>\n",
       "    </tr>\n",
       "    <tr>\n",
       "      <th>Russia_android_male_B</th>\n",
       "      <td>1909</td>\n",
       "    </tr>\n",
       "    <tr>\n",
       "      <th>Sweden_android_male_B</th>\n",
       "      <td>1909</td>\n",
       "    </tr>\n",
       "    <tr>\n",
       "      <th>Sweden_ios_female_B</th>\n",
       "      <td>1909</td>\n",
       "    </tr>\n",
       "    <tr>\n",
       "      <th>Russia_android_female_B</th>\n",
       "      <td>1910</td>\n",
       "    </tr>\n",
       "    <tr>\n",
       "      <th>Russia_ios_female_B</th>\n",
       "      <td>1910</td>\n",
       "    </tr>\n",
       "    <tr>\n",
       "      <th>Russia_ios_male_B</th>\n",
       "      <td>1910</td>\n",
       "    </tr>\n",
       "    <tr>\n",
       "      <th>Sweden_android_female_B</th>\n",
       "      <td>1910</td>\n",
       "    </tr>\n",
       "    <tr>\n",
       "      <th>Sweden_ios_male_B</th>\n",
       "      <td>1910</td>\n",
       "    </tr>\n",
       "  </tbody>\n",
       "</table>\n",
       "</div>"
      ],
      "text/plain": [
       "                         revenue\n",
       "general_name                    \n",
       "Russia_android_male_A        208\n",
       "Sweden_ios_female_A          208\n",
       "Russia_android_female_A      298\n",
       "Russia_ios_female_A          300\n",
       "Russia_ios_male_A            300\n",
       "Sweden_android_male_A        300\n",
       "Sweden_android_female_A      301\n",
       "Sweden_ios_male_A            301\n",
       "Russia_android_male_B       1909\n",
       "Sweden_android_male_B       1909\n",
       "Sweden_ios_female_B         1909\n",
       "Russia_android_female_B     1910\n",
       "Russia_ios_female_B         1910\n",
       "Russia_ios_male_B           1910\n",
       "Sweden_android_female_B     1910\n",
       "Sweden_ios_male_B           1910"
      ]
     },
     "execution_count": 46,
     "metadata": {},
     "output_type": "execute_result"
    }
   ],
   "source": [
    "# мода в каждой подкатегории с заплатившими пользователями\n",
    "df[df.revenue > 0].groupby('general_name').agg(lambda x: mode(x)[0])[['revenue']].sort_values(by='revenue')"
   ]
  },
  {
   "cell_type": "code",
   "execution_count": 47,
   "metadata": {},
   "outputs": [
    {
     "data": {
      "text/html": [
       "<div>\n",
       "<style scoped>\n",
       "    .dataframe tbody tr th:only-of-type {\n",
       "        vertical-align: middle;\n",
       "    }\n",
       "\n",
       "    .dataframe tbody tr th {\n",
       "        vertical-align: top;\n",
       "    }\n",
       "\n",
       "    .dataframe thead th {\n",
       "        text-align: right;\n",
       "    }\n",
       "</style>\n",
       "<table border=\"1\" class=\"dataframe\">\n",
       "  <thead>\n",
       "    <tr style=\"text-align: right;\">\n",
       "      <th></th>\n",
       "      <th>revenue</th>\n",
       "    </tr>\n",
       "    <tr>\n",
       "      <th>general_name</th>\n",
       "      <th></th>\n",
       "    </tr>\n",
       "  </thead>\n",
       "  <tbody>\n",
       "    <tr>\n",
       "      <th>Russia_android_male_A</th>\n",
       "      <td>18.032922</td>\n",
       "    </tr>\n",
       "    <tr>\n",
       "      <th>Sweden_android_female_A</th>\n",
       "      <td>25.586420</td>\n",
       "    </tr>\n",
       "    <tr>\n",
       "      <th>Russia_android_female_A</th>\n",
       "      <td>34.756554</td>\n",
       "    </tr>\n",
       "    <tr>\n",
       "      <th>Sweden_ios_male_A</th>\n",
       "      <td>35.442953</td>\n",
       "    </tr>\n",
       "    <tr>\n",
       "      <th>Russia_ios_male_A</th>\n",
       "      <td>43.883117</td>\n",
       "    </tr>\n",
       "    <tr>\n",
       "      <th>Sweden_ios_female_A</th>\n",
       "      <td>44.493333</td>\n",
       "    </tr>\n",
       "    <tr>\n",
       "      <th>Russia_ios_male_B</th>\n",
       "      <td>48.357642</td>\n",
       "    </tr>\n",
       "    <tr>\n",
       "      <th>Russia_android_male_B</th>\n",
       "      <td>51.374606</td>\n",
       "    </tr>\n",
       "    <tr>\n",
       "      <th>Russia_android_female_B</th>\n",
       "      <td>54.762810</td>\n",
       "    </tr>\n",
       "    <tr>\n",
       "      <th>Sweden_android_female_B</th>\n",
       "      <td>57.290030</td>\n",
       "    </tr>\n",
       "    <tr>\n",
       "      <th>Russia_ios_female_B</th>\n",
       "      <td>58.864758</td>\n",
       "    </tr>\n",
       "    <tr>\n",
       "      <th>Sweden_android_male_B</th>\n",
       "      <td>60.200927</td>\n",
       "    </tr>\n",
       "    <tr>\n",
       "      <th>Russia_ios_female_A</th>\n",
       "      <td>66.712644</td>\n",
       "    </tr>\n",
       "    <tr>\n",
       "      <th>Sweden_ios_male_B</th>\n",
       "      <td>69.898990</td>\n",
       "    </tr>\n",
       "    <tr>\n",
       "      <th>Sweden_ios_female_B</th>\n",
       "      <td>93.086785</td>\n",
       "    </tr>\n",
       "    <tr>\n",
       "      <th>Sweden_android_male_A</th>\n",
       "      <td>136.364198</td>\n",
       "    </tr>\n",
       "  </tbody>\n",
       "</table>\n",
       "</div>"
      ],
      "text/plain": [
       "                            revenue\n",
       "general_name                       \n",
       "Russia_android_male_A     18.032922\n",
       "Sweden_android_female_A   25.586420\n",
       "Russia_android_female_A   34.756554\n",
       "Sweden_ios_male_A         35.442953\n",
       "Russia_ios_male_A         43.883117\n",
       "Sweden_ios_female_A       44.493333\n",
       "Russia_ios_male_B         48.357642\n",
       "Russia_android_male_B     51.374606\n",
       "Russia_android_female_B   54.762810\n",
       "Sweden_android_female_B   57.290030\n",
       "Russia_ios_female_B       58.864758\n",
       "Sweden_android_male_B     60.200927\n",
       "Russia_ios_female_A       66.712644\n",
       "Sweden_ios_male_B         69.898990\n",
       "Sweden_ios_female_B       93.086785\n",
       "Sweden_android_male_A    136.364198"
      ]
     },
     "execution_count": 47,
     "metadata": {},
     "output_type": "execute_result"
    }
   ],
   "source": [
    "# среднее значение доходов подкатегорий на пользователя\n",
    "df.groupby('general_name').agg({'revenue': 'mean'}).sort_values(by='revenue')"
   ]
  },
  {
   "cell_type": "code",
   "execution_count": 48,
   "metadata": {},
   "outputs": [
    {
     "data": {
      "text/html": [
       "<div>\n",
       "<style scoped>\n",
       "    .dataframe tbody tr th:only-of-type {\n",
       "        vertical-align: middle;\n",
       "    }\n",
       "\n",
       "    .dataframe tbody tr th {\n",
       "        vertical-align: top;\n",
       "    }\n",
       "\n",
       "    .dataframe thead th {\n",
       "        text-align: right;\n",
       "    }\n",
       "</style>\n",
       "<table border=\"1\" class=\"dataframe\">\n",
       "  <thead>\n",
       "    <tr style=\"text-align: right;\">\n",
       "      <th></th>\n",
       "      <th>revenue</th>\n",
       "    </tr>\n",
       "    <tr>\n",
       "      <th>general_name</th>\n",
       "      <th></th>\n",
       "    </tr>\n",
       "  </thead>\n",
       "  <tbody>\n",
       "    <tr>\n",
       "      <th>Russia_android_male_A</th>\n",
       "      <td>547.750000</td>\n",
       "    </tr>\n",
       "    <tr>\n",
       "      <th>Sweden_ios_male_A</th>\n",
       "      <td>660.125000</td>\n",
       "    </tr>\n",
       "    <tr>\n",
       "      <th>Sweden_android_female_A</th>\n",
       "      <td>690.833333</td>\n",
       "    </tr>\n",
       "    <tr>\n",
       "      <th>Russia_android_female_A</th>\n",
       "      <td>843.636364</td>\n",
       "    </tr>\n",
       "    <tr>\n",
       "      <th>Russia_ios_female_A</th>\n",
       "      <td>892.923077</td>\n",
       "    </tr>\n",
       "    <tr>\n",
       "      <th>Russia_ios_male_A</th>\n",
       "      <td>921.545455</td>\n",
       "    </tr>\n",
       "    <tr>\n",
       "      <th>Sweden_ios_female_A</th>\n",
       "      <td>953.428571</td>\n",
       "    </tr>\n",
       "    <tr>\n",
       "      <th>Russia_ios_male_B</th>\n",
       "      <td>987.877551</td>\n",
       "    </tr>\n",
       "    <tr>\n",
       "      <th>Sweden_android_female_B</th>\n",
       "      <td>1149.272727</td>\n",
       "    </tr>\n",
       "    <tr>\n",
       "      <th>Sweden_android_male_B</th>\n",
       "      <td>1180.303030</td>\n",
       "    </tr>\n",
       "    <tr>\n",
       "      <th>Russia_android_male_B</th>\n",
       "      <td>1206.351852</td>\n",
       "    </tr>\n",
       "    <tr>\n",
       "      <th>Russia_ios_female_B</th>\n",
       "      <td>1325.111111</td>\n",
       "    </tr>\n",
       "    <tr>\n",
       "      <th>Russia_android_female_B</th>\n",
       "      <td>1352.306122</td>\n",
       "    </tr>\n",
       "    <tr>\n",
       "      <th>Sweden_ios_male_B</th>\n",
       "      <td>1441.666667</td>\n",
       "    </tr>\n",
       "    <tr>\n",
       "      <th>Sweden_android_male_A</th>\n",
       "      <td>1577.928571</td>\n",
       "    </tr>\n",
       "    <tr>\n",
       "      <th>Sweden_ios_female_B</th>\n",
       "      <td>1747.962963</td>\n",
       "    </tr>\n",
       "  </tbody>\n",
       "</table>\n",
       "</div>"
      ],
      "text/plain": [
       "                             revenue\n",
       "general_name                        \n",
       "Russia_android_male_A     547.750000\n",
       "Sweden_ios_male_A         660.125000\n",
       "Sweden_android_female_A   690.833333\n",
       "Russia_android_female_A   843.636364\n",
       "Russia_ios_female_A       892.923077\n",
       "Russia_ios_male_A         921.545455\n",
       "Sweden_ios_female_A       953.428571\n",
       "Russia_ios_male_B         987.877551\n",
       "Sweden_android_female_B  1149.272727\n",
       "Sweden_android_male_B    1180.303030\n",
       "Russia_android_male_B    1206.351852\n",
       "Russia_ios_female_B      1325.111111\n",
       "Russia_android_female_B  1352.306122\n",
       "Sweden_ios_male_B        1441.666667\n",
       "Sweden_android_male_A    1577.928571\n",
       "Sweden_ios_female_B      1747.962963"
      ]
     },
     "execution_count": 48,
     "metadata": {},
     "output_type": "execute_result"
    }
   ],
   "source": [
    "# среднее значение доходов подкатегорий на заплатившего пользователя \n",
    "df[df.revenue > 0].groupby('general_name').agg({'revenue': 'mean'}).sort_values(by='revenue')"
   ]
  },
  {
   "cell_type": "markdown",
   "metadata": {},
   "source": [
    "Из всех значений контрольной и тестовой групп наиболее сильно выбиваются мужчины на андроиде из Швеции. Далее представлены графики"
   ]
  },
  {
   "cell_type": "code",
   "execution_count": 49,
   "metadata": {},
   "outputs": [
    {
     "data": {
      "text/plain": [
       "<seaborn.axisgrid.FacetGrid at 0x7fa104a5ff98>"
      ]
     },
     "execution_count": 49,
     "metadata": {},
     "output_type": "execute_result"
    },
    {
     "data": {
      "image/png": "[encoded data removed]",
      "text/plain": [
       "<Figure size 360x360 with 1 Axes>"
      ]
     },
     "metadata": {
      "needs_background": "light"
     },
     "output_type": "display_data"
    }
   ],
   "source": [
    "# только revenue > 0\n",
    "sns.displot(df.query('group == \"A\" and platform == \"android\" and country == \"Sweden\" \\\n",
    "                      and sex == \"male\" and revenue > 0').revenue, kde=False)"
   ]
  },
  {
   "cell_type": "code",
   "execution_count": 50,
   "metadata": {},
   "outputs": [
    {
     "data": {
      "text/plain": [
       "<seaborn.axisgrid.FacetGrid at 0x7fa0dd5e8f98>"
      ]
     },
     "execution_count": 50,
     "metadata": {},
     "output_type": "execute_result"
    },
    {
     "data": {
      "image/png": "[encoded data removed]",
      "text/plain": [
       "<Figure size 360x360 with 1 Axes>"
      ]
     },
     "metadata": {
      "needs_background": "light"
     },
     "output_type": "display_data"
    }
   ],
   "source": [
    "# только revenue > 0\n",
    "sns.displot(df.query('group == \"B\" and platform == \"android\" and country == \"Sweden\" \\\n",
    "                      and sex == \"male\" and revenue > 0').revenue, kde=False)"
   ]
  },
  {
   "cell_type": "markdown",
   "metadata": {},
   "source": [
    "На графиках видно, что тестовая группа не платила больше 2000, в то время как в контрольной группе значения достигают 3500.\n",
    "\n",
    "С помощью метода bootstrap можно найти значение p-value для показателей дохода от мужчин на андроиде из Швеции"
   ]
  },
  {
   "cell_type": "code",
   "execution_count": 51,
   "metadata": {},
   "outputs": [
    {
     "name": "stdout",
     "output_type": "stream",
     "text": [
      "0.10453215197736827\n",
      "0.10414070790707575\n",
      "0.10303998329690175\n",
      "0.11509894943385379\n",
      "0.09777874125739612\n",
      "0.11664757197258155\n",
      "0.09509759877101204\n",
      "0.1101049575212328\n",
      "0.12285961225305886\n",
      "0.10159701655184877\n",
      "mean = 0.10708972909423298\n",
      "p-value >= 0.05 -> Нельзя утверждать, что есть различия в доходах между двумя данными группами\n"
     ]
    },
    {
     "data": {
      "image/png": "[encoded data removed]",
      "text/plain": [
       "<Figure size 432x288 with 1 Axes>"
      ]
     },
     "metadata": {
      "needs_background": "light"
     },
     "output_type": "display_data"
    }
   ],
   "source": [
    "# только revenue > 0\n",
    "lst = []\n",
    "for i in range(10):\n",
    "    it = get_bootstrap(df.query('group == \"A\" and platform == \"android\" and country == \"Sweden\" \\\n",
    "                                 and sex == \"male\" and revenue > 0').revenue,\n",
    "                       df.query('group == \"B\" and platform == \"android\" and country == \"Sweden\" \\\n",
    "                                 and sex == \"male\" and revenue > 0').revenue)\n",
    "    lst.append(it)\n",
    "    print(it)\n",
    "print(f'mean = {mean(lst)}')\n",
    "if mean(lst) < 0.05:\n",
    "    print('p-value < 0.05 -> Есть статистически значимые различия в доходах между двумя данными группами')\n",
    "else:\n",
    "    print('p-value >= 0.05 -> Нельзя утверждать, что есть различия в доходах между двумя данными группами')"
   ]
  },
  {
   "cell_type": "code",
   "execution_count": 52,
   "metadata": {},
   "outputs": [
    {
     "name": "stdout",
     "output_type": "stream",
     "text": [
      "0.0034248786851980963\n",
      "0.0027562959642545236\n",
      "0.0033283440679974137\n",
      "0.0020451156204812073\n",
      "0.002329649056269384\n",
      "0.003392043374766742\n",
      "0.0025642108172952635\n",
      "0.0031787404291904087\n",
      "0.0019944955606103145\n",
      "0.0024513704380812983\n",
      "mean = 0.0027465144014144653\n",
      "p-value < 0.05 -> Есть статистически значимые различия в доходах между двумя данными группами\n"
     ]
    },
    {
     "data": {
      "image/png": "[encoded data removed]",
      "text/plain": [
       "<Figure size 432x288 with 1 Axes>"
      ]
     },
     "metadata": {
      "needs_background": "light"
     },
     "output_type": "display_data"
    }
   ],
   "source": [
    "lst = []\n",
    "for i in range(10):\n",
    "    it = get_bootstrap(df.query('group == \"A\" and platform == \"android\" \\\n",
    "                                 and country == \"Sweden\" and sex == \"male\"').revenue,\n",
    "                       df.query('group == \"B\" and platform == \"android\" \\\n",
    "                                 and country == \"Sweden\" and sex == \"male\"').revenue)\n",
    "    lst.append(it)\n",
    "    print(it)\n",
    "print(f'mean = {mean(lst)}')\n",
    "if mean(lst) < 0.05:\n",
    "    print('p-value < 0.05 -> Есть статистически значимые различия в доходах между двумя данными группами')\n",
    "else:\n",
    "    print('p-value >= 0.05 -> Нельзя утверждать, что есть различия в доходах между двумя данными группами')"
   ]
  },
  {
   "cell_type": "markdown",
   "metadata": {},
   "source": [
    "Видно, что статистически значимые различия имеются только у заплативших пользователей.\n",
    "\n",
    "Можно рассмотреть более подробно более крупные категории, чтобы проверить, есть ли на более высоких уровнях статистические различия"
   ]
  },
  {
   "cell_type": "code",
   "execution_count": 53,
   "metadata": {},
   "outputs": [],
   "source": [
    "# Серии даратфрейма с именами без одного параметра\n",
    "df['without_platform'] = df['sex'] + '_' + df['country'] + '_' + df['group']\n",
    "df['without_sex'] = df['country'] + '_' + df['platform'] + '_' + df['group']\n",
    "df['without_country'] = df['platform'] + '_' + df['sex'] + '_' + df['group']"
   ]
  },
  {
   "cell_type": "markdown",
   "metadata": {},
   "source": [
    "Созданы серии датафрейма, по которым можно рассматривать более крупные подкатегории пользователей"
   ]
  },
  {
   "cell_type": "code",
   "execution_count": 54,
   "metadata": {},
   "outputs": [
    {
     "data": {
      "text/html": [
       "<div>\n",
       "<style scoped>\n",
       "    .dataframe tbody tr th:only-of-type {\n",
       "        vertical-align: middle;\n",
       "    }\n",
       "\n",
       "    .dataframe tbody tr th {\n",
       "        vertical-align: top;\n",
       "    }\n",
       "\n",
       "    .dataframe thead th {\n",
       "        text-align: right;\n",
       "    }\n",
       "</style>\n",
       "<table border=\"1\" class=\"dataframe\">\n",
       "  <thead>\n",
       "    <tr style=\"text-align: right;\">\n",
       "      <th></th>\n",
       "      <th>revenue</th>\n",
       "    </tr>\n",
       "    <tr>\n",
       "      <th>without_platform</th>\n",
       "      <th></th>\n",
       "    </tr>\n",
       "  </thead>\n",
       "  <tbody>\n",
       "    <tr>\n",
       "      <th>male_Russia_A</th>\n",
       "      <td>30.630802</td>\n",
       "    </tr>\n",
       "    <tr>\n",
       "      <th>female_Sweden_A</th>\n",
       "      <td>34.676282</td>\n",
       "    </tr>\n",
       "    <tr>\n",
       "      <th>female_Russia_A</th>\n",
       "      <td>47.365079</td>\n",
       "    </tr>\n",
       "    <tr>\n",
       "      <th>male_Russia_B</th>\n",
       "      <td>50.043632</td>\n",
       "    </tr>\n",
       "    <tr>\n",
       "      <th>female_Russia_B</th>\n",
       "      <td>56.632029</td>\n",
       "    </tr>\n",
       "    <tr>\n",
       "      <th>male_Sweden_B</th>\n",
       "      <td>64.404553</td>\n",
       "    </tr>\n",
       "    <tr>\n",
       "      <th>female_Sweden_B</th>\n",
       "      <td>72.815227</td>\n",
       "    </tr>\n",
       "    <tr>\n",
       "      <th>male_Sweden_A</th>\n",
       "      <td>88.012862</td>\n",
       "    </tr>\n",
       "  </tbody>\n",
       "</table>\n",
       "</div>"
      ],
      "text/plain": [
       "                    revenue\n",
       "without_platform           \n",
       "male_Russia_A     30.630802\n",
       "female_Sweden_A   34.676282\n",
       "female_Russia_A   47.365079\n",
       "male_Russia_B     50.043632\n",
       "female_Russia_B   56.632029\n",
       "male_Sweden_B     64.404553\n",
       "female_Sweden_B   72.815227\n",
       "male_Sweden_A     88.012862"
      ]
     },
     "execution_count": 54,
     "metadata": {},
     "output_type": "execute_result"
    }
   ],
   "source": [
    "# среднее значение доходов подкатегорий на пользователя\n",
    "df.groupby('without_platform').agg({'revenue': 'mean'}).sort_values(by='revenue')"
   ]
  },
  {
   "cell_type": "code",
   "execution_count": 55,
   "metadata": {},
   "outputs": [
    {
     "data": {
      "text/html": [
       "<div>\n",
       "<style scoped>\n",
       "    .dataframe tbody tr th:only-of-type {\n",
       "        vertical-align: middle;\n",
       "    }\n",
       "\n",
       "    .dataframe tbody tr th {\n",
       "        vertical-align: top;\n",
       "    }\n",
       "\n",
       "    .dataframe thead th {\n",
       "        text-align: right;\n",
       "    }\n",
       "</style>\n",
       "<table border=\"1\" class=\"dataframe\">\n",
       "  <thead>\n",
       "    <tr style=\"text-align: right;\">\n",
       "      <th></th>\n",
       "      <th>revenue</th>\n",
       "    </tr>\n",
       "    <tr>\n",
       "      <th>without_platform</th>\n",
       "      <th></th>\n",
       "    </tr>\n",
       "  </thead>\n",
       "  <tbody>\n",
       "    <tr>\n",
       "      <th>male_Russia_A</th>\n",
       "      <td>764.157895</td>\n",
       "    </tr>\n",
       "    <tr>\n",
       "      <th>female_Sweden_A</th>\n",
       "      <td>832.230769</td>\n",
       "    </tr>\n",
       "    <tr>\n",
       "      <th>female_Russia_A</th>\n",
       "      <td>870.333333</td>\n",
       "    </tr>\n",
       "    <tr>\n",
       "      <th>male_Russia_B</th>\n",
       "      <td>1102.417476</td>\n",
       "    </tr>\n",
       "    <tr>\n",
       "      <th>male_Sweden_A</th>\n",
       "      <td>1244.181818</td>\n",
       "    </tr>\n",
       "    <tr>\n",
       "      <th>male_Sweden_B</th>\n",
       "      <td>1290.350877</td>\n",
       "    </tr>\n",
       "    <tr>\n",
       "      <th>female_Russia_B</th>\n",
       "      <td>1339.287234</td>\n",
       "    </tr>\n",
       "    <tr>\n",
       "      <th>female_Sweden_B</th>\n",
       "      <td>1418.683333</td>\n",
       "    </tr>\n",
       "  </tbody>\n",
       "</table>\n",
       "</div>"
      ],
      "text/plain": [
       "                      revenue\n",
       "without_platform             \n",
       "male_Russia_A      764.157895\n",
       "female_Sweden_A    832.230769\n",
       "female_Russia_A    870.333333\n",
       "male_Russia_B     1102.417476\n",
       "male_Sweden_A     1244.181818\n",
       "male_Sweden_B     1290.350877\n",
       "female_Russia_B   1339.287234\n",
       "female_Sweden_B   1418.683333"
      ]
     },
     "execution_count": 55,
     "metadata": {},
     "output_type": "execute_result"
    }
   ],
   "source": [
    "# среднее значение доходов подкатегорий на заплатившего пользователя \n",
    "df[df.revenue > 0].groupby('without_platform').agg({'revenue': 'mean'}).sort_values(by='revenue')"
   ]
  },
  {
   "cell_type": "code",
   "execution_count": 56,
   "metadata": {},
   "outputs": [
    {
     "name": "stdout",
     "output_type": "stream",
     "text": [
      "0.7916333898527212\n",
      "0.784621081383835\n",
      "0.7839584727073103\n",
      "0.7899425306923569\n",
      "0.8006814282090914\n",
      "0.7983042812821692\n",
      "0.802107153569799\n",
      "0.8237966584594685\n",
      "0.7852540878306398\n",
      "0.7634985723821055\n",
      "mean = 0.7923797656369497\n",
      "p-value >= 0.05 -> Нельзя утверждать, что есть различия в доходах между двумя данными группами\n"
     ]
    },
    {
     "data": {
      "image/png": "[encoded data removed]",
      "text/plain": [
       "<Figure size 432x288 with 1 Axes>"
      ]
     },
     "metadata": {
      "needs_background": "light"
     },
     "output_type": "display_data"
    }
   ],
   "source": [
    "# только revenue > 0\n",
    "lst = []\n",
    "for i in range(10):\n",
    "    it = get_bootstrap(df.query('group == \"A\" and sex == \"male\" \\\n",
    "                                 and country == \"Sweden\" and revenue > 0').revenue,\n",
    "                       df.query('group == \"B\" and sex == \"male\" \\\n",
    "                                 and country == \"Sweden\" and revenue > 0').revenue)\n",
    "    lst.append(it)\n",
    "    print(it)\n",
    "print(f'mean = {mean(lst)}')\n",
    "if mean(lst) < 0.05:\n",
    "    print('p-value < 0.05 -> Есть статистически значимые различия в доходах между двумя данными группами')\n",
    "else:\n",
    "    print('p-value >= 0.05 -> Нельзя утверждать, что есть различия в доходах между двумя данными группами')"
   ]
  },
  {
   "cell_type": "code",
   "execution_count": 57,
   "metadata": {},
   "outputs": [
    {
     "name": "stdout",
     "output_type": "stream",
     "text": [
      "0.12119494164425028\n",
      "0.14050504147018023\n",
      "0.13991498220808546\n",
      "0.131718101193114\n",
      "0.13860486834234584\n",
      "0.15324345561159158\n",
      "0.14779763740331012\n",
      "0.13762681663212772\n",
      "0.1453883593737473\n",
      "0.1354227913672977\n",
      "mean = 0.13914169952460503\n",
      "p-value >= 0.05 -> Нельзя утверждать, что есть различия в доходах между двумя данными группами\n"
     ]
    },
    {
     "data": {
      "image/png": "[encoded data removed]",
      "text/plain": [
       "<Figure size 432x288 with 1 Axes>"
      ]
     },
     "metadata": {
      "needs_background": "light"
     },
     "output_type": "display_data"
    }
   ],
   "source": [
    "lst = []\n",
    "for i in range(10):\n",
    "    it = get_bootstrap(df.query('group == \"A\" and sex == \"male\" and country == \"Sweden\"').revenue,\n",
    "                       df.query('group == \"B\" and sex == \"male\" and country == \"Sweden\"').revenue)\n",
    "    lst.append(it)\n",
    "    print(it)\n",
    "print(f'mean = {mean(lst)}')\n",
    "if mean(lst) < 0.05:\n",
    "    print('p-value < 0.05 -> Есть статистически значимые различия в доходах между двумя данными группами')\n",
    "else:\n",
    "    print('p-value >= 0.05 -> Нельзя утверждать, что есть различия в доходах между двумя данными группами')"
   ]
  },
  {
   "cell_type": "markdown",
   "metadata": {},
   "source": [
    "Показатели по полу и стране не выявили статистически значимых различий"
   ]
  },
  {
   "cell_type": "code",
   "execution_count": 58,
   "metadata": {},
   "outputs": [
    {
     "data": {
      "text/html": [
       "<div>\n",
       "<style scoped>\n",
       "    .dataframe tbody tr th:only-of-type {\n",
       "        vertical-align: middle;\n",
       "    }\n",
       "\n",
       "    .dataframe tbody tr th {\n",
       "        vertical-align: top;\n",
       "    }\n",
       "\n",
       "    .dataframe thead th {\n",
       "        text-align: right;\n",
       "    }\n",
       "</style>\n",
       "<table border=\"1\" class=\"dataframe\">\n",
       "  <thead>\n",
       "    <tr style=\"text-align: right;\">\n",
       "      <th></th>\n",
       "      <th>revenue</th>\n",
       "    </tr>\n",
       "    <tr>\n",
       "      <th>without_sex</th>\n",
       "      <th></th>\n",
       "    </tr>\n",
       "  </thead>\n",
       "  <tbody>\n",
       "    <tr>\n",
       "      <th>Russia_android_A</th>\n",
       "      <td>26.788235</td>\n",
       "    </tr>\n",
       "    <tr>\n",
       "      <th>Sweden_ios_A</th>\n",
       "      <td>39.983278</td>\n",
       "    </tr>\n",
       "    <tr>\n",
       "      <th>Russia_android_B</th>\n",
       "      <td>53.029056</td>\n",
       "    </tr>\n",
       "    <tr>\n",
       "      <th>Russia_ios_B</th>\n",
       "      <td>53.642502</td>\n",
       "    </tr>\n",
       "    <tr>\n",
       "      <th>Russia_ios_A</th>\n",
       "      <td>53.691358</td>\n",
       "    </tr>\n",
       "    <tr>\n",
       "      <th>Sweden_android_B</th>\n",
       "      <td>58.728801</td>\n",
       "    </tr>\n",
       "    <tr>\n",
       "      <th>Sweden_android_A</th>\n",
       "      <td>80.975309</td>\n",
       "    </tr>\n",
       "    <tr>\n",
       "      <th>Sweden_ios_B</th>\n",
       "      <td>81.631737</td>\n",
       "    </tr>\n",
       "  </tbody>\n",
       "</table>\n",
       "</div>"
      ],
      "text/plain": [
       "                    revenue\n",
       "without_sex                \n",
       "Russia_android_A  26.788235\n",
       "Sweden_ios_A      39.983278\n",
       "Russia_android_B  53.029056\n",
       "Russia_ios_B      53.642502\n",
       "Russia_ios_A      53.691358\n",
       "Sweden_android_B  58.728801\n",
       "Sweden_android_A  80.975309\n",
       "Sweden_ios_B      81.631737"
      ]
     },
     "execution_count": 58,
     "metadata": {},
     "output_type": "execute_result"
    }
   ],
   "source": [
    "# среднее значение доходов подкатегорий на пользователя\n",
    "df.groupby('without_sex').agg({'revenue': 'mean'}).sort_values(by='revenue')"
   ]
  },
  {
   "cell_type": "code",
   "execution_count": 59,
   "metadata": {},
   "outputs": [
    {
     "data": {
      "text/html": [
       "<div>\n",
       "<style scoped>\n",
       "    .dataframe tbody tr th:only-of-type {\n",
       "        vertical-align: middle;\n",
       "    }\n",
       "\n",
       "    .dataframe tbody tr th {\n",
       "        vertical-align: top;\n",
       "    }\n",
       "\n",
       "    .dataframe thead th {\n",
       "        text-align: right;\n",
       "    }\n",
       "</style>\n",
       "<table border=\"1\" class=\"dataframe\">\n",
       "  <thead>\n",
       "    <tr style=\"text-align: right;\">\n",
       "      <th></th>\n",
       "      <th>revenue</th>\n",
       "    </tr>\n",
       "    <tr>\n",
       "      <th>without_sex</th>\n",
       "      <th></th>\n",
       "    </tr>\n",
       "  </thead>\n",
       "  <tbody>\n",
       "    <tr>\n",
       "      <th>Russia_android_A</th>\n",
       "      <td>719.052632</td>\n",
       "    </tr>\n",
       "    <tr>\n",
       "      <th>Sweden_ios_A</th>\n",
       "      <td>797.000000</td>\n",
       "    </tr>\n",
       "    <tr>\n",
       "      <th>Russia_ios_A</th>\n",
       "      <td>906.041667</td>\n",
       "    </tr>\n",
       "    <tr>\n",
       "      <th>Russia_ios_B</th>\n",
       "      <td>1149.319149</td>\n",
       "    </tr>\n",
       "    <tr>\n",
       "      <th>Sweden_android_B</th>\n",
       "      <td>1164.787879</td>\n",
       "    </tr>\n",
       "    <tr>\n",
       "      <th>Russia_android_B</th>\n",
       "      <td>1275.786408</td>\n",
       "    </tr>\n",
       "    <tr>\n",
       "      <th>Sweden_android_A</th>\n",
       "      <td>1311.800000</td>\n",
       "    </tr>\n",
       "    <tr>\n",
       "      <th>Sweden_ios_B</th>\n",
       "      <td>1603.823529</td>\n",
       "    </tr>\n",
       "  </tbody>\n",
       "</table>\n",
       "</div>"
      ],
      "text/plain": [
       "                      revenue\n",
       "without_sex                  \n",
       "Russia_android_A   719.052632\n",
       "Sweden_ios_A       797.000000\n",
       "Russia_ios_A       906.041667\n",
       "Russia_ios_B      1149.319149\n",
       "Sweden_android_B  1164.787879\n",
       "Russia_android_B  1275.786408\n",
       "Sweden_android_A  1311.800000\n",
       "Sweden_ios_B      1603.823529"
      ]
     },
     "execution_count": 59,
     "metadata": {},
     "output_type": "execute_result"
    }
   ],
   "source": [
    "# среднее значение доходов подкатегорий на заплатившего пользователя \n",
    "df[df.revenue > 0].groupby('without_sex').agg({'revenue': 'mean'}).sort_values(by='revenue')"
   ]
  },
  {
   "cell_type": "code",
   "execution_count": 60,
   "metadata": {},
   "outputs": [
    {
     "name": "stdout",
     "output_type": "stream",
     "text": [
      "0.360720684861801\n",
      "0.34832941004184237\n",
      "0.38258886534980996\n",
      "0.37721255463211534\n",
      "0.36420038591535786\n",
      "0.35584180934801346\n",
      "0.36049438109600296\n",
      "0.3719583338764151\n",
      "0.38503060875225503\n",
      "0.39245026818217965\n",
      "mean = 0.36988273020557927\n",
      "p-value >= 0.05 -> Нельзя утверждать, что есть различия в доходах между двумя данными группами\n"
     ]
    },
    {
     "data": {
      "image/png": "[encoded data removed]",
      "text/plain": [
       "<Figure size 432x288 with 1 Axes>"
      ]
     },
     "metadata": {
      "needs_background": "light"
     },
     "output_type": "display_data"
    }
   ],
   "source": [
    "# только revenue > 0\n",
    "lst = []\n",
    "for i in range(10):\n",
    "    it = get_bootstrap(df.query('group == \"A\" and platform == \"android\" \\\n",
    "                                 and country == \"Sweden\" and revenue > 0').revenue,\n",
    "                       df.query('group == \"B\" and platform == \"android\" \\\n",
    "                                 and country == \"Sweden\" and revenue > 0').revenue)\n",
    "    lst.append(it)\n",
    "    print(it)\n",
    "print(f'mean = {mean(lst)}')\n",
    "if mean(lst) < 0.05:\n",
    "    print('p-value < 0.05 -> Есть статистически значимые различия в доходах между двумя данными группами')\n",
    "else:\n",
    "    print('p-value >= 0.05 -> Нельзя утверждать, что есть различия в доходах между двумя данными группами')"
   ]
  },
  {
   "cell_type": "code",
   "execution_count": 61,
   "metadata": {},
   "outputs": [
    {
     "name": "stdout",
     "output_type": "stream",
     "text": [
      "0.12928128911486506\n",
      "0.11113586286771131\n",
      "0.11951813019986778\n",
      "0.11127453327330637\n",
      "0.1140904157301702\n",
      "0.11237924870169691\n",
      "0.10618269480907953\n",
      "0.12053896885825749\n",
      "0.11664560770014931\n",
      "0.11038934795318604\n",
      "mean = 0.115143609920829\n",
      "p-value >= 0.05 -> Нельзя утверждать, что есть различия в доходах между двумя данными группами\n"
     ]
    },
    {
     "data": {
      "image/png": "[encoded data removed]",
      "text/plain": [
       "<Figure size 432x288 with 1 Axes>"
      ]
     },
     "metadata": {
      "needs_background": "light"
     },
     "output_type": "display_data"
    }
   ],
   "source": [
    "lst = []\n",
    "for i in range(10):\n",
    "    it = get_bootstrap(df.query('group == \"A\" and platform == \"android\" and country == \"Sweden\"').revenue,\n",
    "                       df.query('group == \"B\" and platform == \"android\" and country == \"Sweden\"').revenue)\n",
    "    lst.append(it)\n",
    "    print(it)\n",
    "print(f'mean = {mean(lst)}')\n",
    "if mean(lst) < 0.05:\n",
    "    print('p-value < 0.05 -> Есть статистически значимые различия в доходах между двумя данными группами')\n",
    "else:\n",
    "    print('p-value >= 0.05 -> Нельзя утверждать, что есть различия в доходах между двумя данными группами')"
   ]
  },
  {
   "cell_type": "markdown",
   "metadata": {},
   "source": [
    "Показатели по платформе и стране не выявили статистически значимых различий"
   ]
  },
  {
   "cell_type": "code",
   "execution_count": 62,
   "metadata": {},
   "outputs": [
    {
     "data": {
      "text/html": [
       "<div>\n",
       "<style scoped>\n",
       "    .dataframe tbody tr th:only-of-type {\n",
       "        vertical-align: middle;\n",
       "    }\n",
       "\n",
       "    .dataframe tbody tr th {\n",
       "        vertical-align: top;\n",
       "    }\n",
       "\n",
       "    .dataframe thead th {\n",
       "        text-align: right;\n",
       "    }\n",
       "</style>\n",
       "<table border=\"1\" class=\"dataframe\">\n",
       "  <thead>\n",
       "    <tr style=\"text-align: right;\">\n",
       "      <th></th>\n",
       "      <th>revenue</th>\n",
       "    </tr>\n",
       "    <tr>\n",
       "      <th>without_country</th>\n",
       "      <th></th>\n",
       "    </tr>\n",
       "  </thead>\n",
       "  <tbody>\n",
       "    <tr>\n",
       "      <th>android_female_A</th>\n",
       "      <td>31.293706</td>\n",
       "    </tr>\n",
       "    <tr>\n",
       "      <th>ios_male_A</th>\n",
       "      <td>40.573684</td>\n",
       "    </tr>\n",
       "    <tr>\n",
       "      <th>android_male_B</th>\n",
       "      <td>54.356658</td>\n",
       "    </tr>\n",
       "    <tr>\n",
       "      <th>ios_male_B</th>\n",
       "      <td>55.485294</td>\n",
       "    </tr>\n",
       "    <tr>\n",
       "      <th>android_female_B</th>\n",
       "      <td>55.656517</td>\n",
       "    </tr>\n",
       "    <tr>\n",
       "      <th>ios_female_A</th>\n",
       "      <td>56.425926</td>\n",
       "    </tr>\n",
       "    <tr>\n",
       "      <th>android_male_A</th>\n",
       "      <td>65.365432</td>\n",
       "    </tr>\n",
       "    <tr>\n",
       "      <th>ios_female_B</th>\n",
       "      <td>70.279605</td>\n",
       "    </tr>\n",
       "  </tbody>\n",
       "</table>\n",
       "</div>"
      ],
      "text/plain": [
       "                    revenue\n",
       "without_country            \n",
       "android_female_A  31.293706\n",
       "ios_male_A        40.573684\n",
       "android_male_B    54.356658\n",
       "ios_male_B        55.485294\n",
       "android_female_B  55.656517\n",
       "ios_female_A      56.425926\n",
       "android_male_A    65.365432\n",
       "ios_female_B      70.279605"
      ]
     },
     "execution_count": 62,
     "metadata": {},
     "output_type": "execute_result"
    }
   ],
   "source": [
    "# среднее значение доходов подкатегорий на пользователя\n",
    "df.groupby('without_country').agg({'revenue': 'mean'}).sort_values(by='revenue')"
   ]
  },
  {
   "cell_type": "code",
   "execution_count": 63,
   "metadata": {},
   "outputs": [
    {
     "data": {
      "text/html": [
       "<div>\n",
       "<style scoped>\n",
       "    .dataframe tbody tr th:only-of-type {\n",
       "        vertical-align: middle;\n",
       "    }\n",
       "\n",
       "    .dataframe tbody tr th {\n",
       "        vertical-align: top;\n",
       "    }\n",
       "\n",
       "    .dataframe thead th {\n",
       "        text-align: right;\n",
       "    }\n",
       "</style>\n",
       "<table border=\"1\" class=\"dataframe\">\n",
       "  <thead>\n",
       "    <tr style=\"text-align: right;\">\n",
       "      <th></th>\n",
       "      <th>revenue</th>\n",
       "    </tr>\n",
       "    <tr>\n",
       "      <th>without_country</th>\n",
       "      <th></th>\n",
       "    </tr>\n",
       "  </thead>\n",
       "  <tbody>\n",
       "    <tr>\n",
       "      <th>android_female_A</th>\n",
       "      <td>789.705882</td>\n",
       "    </tr>\n",
       "    <tr>\n",
       "      <th>ios_male_A</th>\n",
       "      <td>811.473684</td>\n",
       "    </tr>\n",
       "    <tr>\n",
       "      <th>ios_female_A</th>\n",
       "      <td>914.100000</td>\n",
       "    </tr>\n",
       "    <tr>\n",
       "      <th>ios_male_B</th>\n",
       "      <td>1137.068493</td>\n",
       "    </tr>\n",
       "    <tr>\n",
       "      <th>android_male_B</th>\n",
       "      <td>1196.471264</td>\n",
       "    </tr>\n",
       "    <tr>\n",
       "      <th>android_male_A</th>\n",
       "      <td>1203.318182</td>\n",
       "    </tr>\n",
       "    <tr>\n",
       "      <th>android_female_B</th>\n",
       "      <td>1270.597561</td>\n",
       "    </tr>\n",
       "    <tr>\n",
       "      <th>ios_female_B</th>\n",
       "      <td>1483.680556</td>\n",
       "    </tr>\n",
       "  </tbody>\n",
       "</table>\n",
       "</div>"
      ],
      "text/plain": [
       "                      revenue\n",
       "without_country              \n",
       "android_female_A   789.705882\n",
       "ios_male_A         811.473684\n",
       "ios_female_A       914.100000\n",
       "ios_male_B        1137.068493\n",
       "android_male_B    1196.471264\n",
       "android_male_A    1203.318182\n",
       "android_female_B  1270.597561\n",
       "ios_female_B      1483.680556"
      ]
     },
     "execution_count": 63,
     "metadata": {},
     "output_type": "execute_result"
    }
   ],
   "source": [
    "# среднее значение доходов подкатегорий на заплатившего пользователя \n",
    "df[df.revenue > 0].groupby('without_country').agg({'revenue': 'mean'}).sort_values(by='revenue')"
   ]
  },
  {
   "cell_type": "code",
   "execution_count": 64,
   "metadata": {},
   "outputs": [
    {
     "name": "stdout",
     "output_type": "stream",
     "text": [
      "0.9488652173394052\n",
      "0.970834564981764\n",
      "0.9752771812778612\n",
      "0.9474690216844163\n",
      "0.9392595766083675\n",
      "0.9609521322711154\n",
      "0.9800973031243704\n",
      "0.9693854423930383\n",
      "0.9803234829543348\n",
      "0.9725706610502134\n",
      "mean = 0.9645034583684886\n",
      "p-value >= 0.05 -> Нельзя утверждать, что есть различия в доходах между двумя данными группами\n"
     ]
    },
    {
     "data": {
      "image/png": "[encoded data removed]",
      "text/plain": [
       "<Figure size 432x288 with 1 Axes>"
      ]
     },
     "metadata": {
      "needs_background": "light"
     },
     "output_type": "display_data"
    }
   ],
   "source": [
    "# только revenue > 0\n",
    "lst = []\n",
    "for i in range(10):\n",
    "    it = get_bootstrap(df.query('group == \"A\" and platform == \"android\" \\\n",
    "                                 and sex == \"male\" and revenue > 0').revenue,\n",
    "                       df.query('group == \"B\" and platform == \"android\" \\\n",
    "                                 and sex == \"male\" and revenue > 0').revenue)\n",
    "    lst.append(it)\n",
    "    print(it)\n",
    "print(f'mean = {mean(lst)}')\n",
    "if mean(lst) < 0.05:\n",
    "    print('p-value < 0.05 -> Есть статистически значимые различия в доходах между двумя данными группами')\n",
    "else:\n",
    "    print('p-value >= 0.05 -> Нельзя утверждать, что есть различия в доходах между двумя данными группами')"
   ]
  },
  {
   "cell_type": "code",
   "execution_count": 65,
   "metadata": {},
   "outputs": [
    {
     "name": "stdout",
     "output_type": "stream",
     "text": [
      "0.31610072672314693\n",
      "0.29910954979867965\n",
      "0.3193951307642925\n",
      "0.3136766717697448\n",
      "0.30607443811906665\n",
      "0.3164804247248346\n",
      "0.31513062675705716\n",
      "0.310828877373978\n",
      "0.30177897072943594\n",
      "0.29655591571929607\n",
      "mean = 0.3095131332479532\n",
      "p-value >= 0.05 -> Нельзя утверждать, что есть различия в доходах между двумя данными группами\n"
     ]
    },
    {
     "data": {
      "image/png": "[encoded data removed]",
      "text/plain": [
       "<Figure size 432x288 with 1 Axes>"
      ]
     },
     "metadata": {
      "needs_background": "light"
     },
     "output_type": "display_data"
    }
   ],
   "source": [
    "lst = []\n",
    "for i in range(10):\n",
    "    it = get_bootstrap(df.query('group == \"A\" and platform == \"android\" and sex == \"male\"').revenue,\n",
    "                       df.query('group == \"B\" and platform == \"android\" and sex == \"male\"').revenue)\n",
    "    lst.append(it)\n",
    "    print(it)\n",
    "print(f'mean = {mean(lst)}')\n",
    "if mean(lst) < 0.05:\n",
    "    print('p-value < 0.05 -> Есть статистически значимые различия в доходах между двумя данными группами')\n",
    "else:\n",
    "    print('p-value >= 0.05 -> Нельзя утверждать, что есть различия в доходах между двумя данными группами')"
   ]
  },
  {
   "cell_type": "markdown",
   "metadata": {},
   "source": [
    "Показатели по платформе и полу не выявили статистически значимых различий\n",
    "\n",
    "Далее представлены A/B тестирования всех подкатегорий пользователей. Из результатов видно, что тестовая группа сразу в нескольких подкатегориях статически более успешная, чем контрольная группа. Единственно, есть неудачное отклонение среди мужчин на андроиде из Швеции, которое было выявлено ранее "
   ]
  },
  {
   "cell_type": "code",
   "execution_count": 66,
   "metadata": {},
   "outputs": [],
   "source": [
    "# категория тестирования: p_value revenue>0, p_value revenue>=0\n",
    "# - означает в сторону улучшения, + в сторону ухудшения \n",
    "\n",
    "\n",
    "# A/B:                  -e-06, -0.04    --\n",
    "\n",
    "# male:                 -0.12, -0.83\n",
    "# female:               -e-08, -e-03    --\n",
    "# android:              -0.02, -0.28    -\n",
    "# ios:                  -e-05, -0.06    -\n",
    "# Russia:               -e-07, -0.01    --\n",
    "# Sweden:               -0.02, -0.43    -\n",
    "\n",
    "# male/android:         +0.96, +0.30\n",
    "# male/ios:             -0.01, -0.13    -\n",
    "# male/Russia:          -e-03, -e-03    --\n",
    "# male/Sweden:          -0.79, +0.13\n",
    "# female/android:       -e-06, -e-03    --\n",
    "# female/ios:           -e-04, -0.27    -\n",
    "# female/Russia:        -e-05, -0.29    -\n",
    "# female/Sweden:        -e-03, -e-03    --\n",
    "# android/Russia:       -e-09, -e-04    --\n",
    "# android/Sweden:       +0.36, +0.11\n",
    "# ios/Russia:           -0.05, -0.98\n",
    "# ios/Sweden:           -e-06, -e-03    --\n",
    "\n",
    "# male/android/Russia:  -e-10, -e-05    --\n",
    "# male/android/Sweden:  +0.10, +e-03     +\n",
    "# male/ios/Russia:      -0.70, -0.71\n",
    "# male/ios/Sweden:      -e-06, -0.05    -\n",
    "# female/android/Russia:-e-04, -0.06    -\n",
    "# female/android/Sweden:-e-03, -0.01    --\n",
    "# female/ios/Russia:    -0.01, +0.58    -\n",
    "# female/ios/Sweden:    -e-03, -0.04    --"
   ]
  },
  {
   "cell_type": "markdown",
   "metadata": {},
   "source": [
    "Данное исследование показало, что значимые статистические различия имеются между контрольной и тестовой группы"
   ]
  },
  {
   "cell_type": "markdown",
   "metadata": {},
   "source": [
    "### Выводы"
   ]
  },
  {
   "cell_type": "markdown",
   "metadata": {},
   "source": [
    "А/В-тестирование выявило статистическую разницу между контрольной и тестовой группы, которая позволяет прийти к выводу, что можно выкатить новую модель на остальных пользователях. В тестовой группе средний доход на пользователя вырос на 22,29%. Единственно, можно заметить, что мужчины из Швеции, пользующиеся платформой android стали меньше вкладывать финансовых средств в приложении, поэтому, следует понять из-за чего это происходит, получив дополнительные данные об активности в течение дня/недели. "
   ]
  },
  {
   "cell_type": "markdown",
   "metadata": {},
   "source": [
    "## Задание №2"
   ]
  },
  {
   "cell_type": "markdown",
   "metadata": {},
   "source": [
    "Реализация дашборда https://public.tableau.com/app/profile/artem.gonets/viz/FinalprojectKarpov/Stories"
   ]
  }
 ],
 "metadata": {
  "kernelspec": {
   "display_name": "Python 3",
   "language": "python",
   "name": "python3"
  },
  "language_info": {
   "codemirror_mode": {
    "name": "ipython",
    "version": 3
   },
   "file_extension": ".py",
   "mimetype": "text/x-python",
   "name": "python",
   "nbconvert_exporter": "python",
   "pygments_lexer": "ipython3",
   "version": "3.7.3"
  }
 },
 "nbformat": 4,
 "nbformat_minor": 4
}
